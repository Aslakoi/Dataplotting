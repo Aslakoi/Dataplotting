{
 "cells": [
  {
   "cell_type": "markdown",
   "id": "1bda2da3",
   "metadata": {},
   "source": [
    "# plotting av test\n",
    "\n"
   ]
  },
  {
   "cell_type": "markdown",
   "id": "6ddea40d",
   "metadata": {},
   "source": [
    "## import libraries\n"
   ]
  },
  {
   "cell_type": "code",
   "execution_count": null,
   "id": "8cd3fd09",
   "metadata": {},
   "outputs": [],
   "source": [
    "import matplotlib.pyplot as plt\n",
    "import pandas "
   ]
  },
  {
   "cell_type": "markdown",
   "id": "b74f422a",
   "metadata": {},
   "source": [
    "## load files"
   ]
  },
  {
   "cell_type": "markdown",
   "id": "390c1ca4",
   "metadata": {},
   "source": [
    "# plotting av simulering\n"
   ]
  },
  {
   "cell_type": "code",
   "execution_count": null,
   "id": "dc0f61d1",
   "metadata": {},
   "outputs": [],
   "source": []
  }
 ],
 "metadata": {
  "kernelspec": {
   "display_name": "Python 3",
   "language": "python",
   "name": "python3"
  },
  "language_info": {
   "name": "python",
   "version": "3.11.5"
  }
 },
 "nbformat": 4,
 "nbformat_minor": 5
}
